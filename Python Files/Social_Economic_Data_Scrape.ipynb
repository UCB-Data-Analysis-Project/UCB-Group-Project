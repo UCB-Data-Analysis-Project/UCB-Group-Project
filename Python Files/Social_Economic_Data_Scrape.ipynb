{
 "cells": [
  {
   "cell_type": "code",
   "execution_count": 5,
   "metadata": {},
   "outputs": [
    {
     "data": {
      "text/plain": [
       "12"
      ]
     },
     "execution_count": 5,
     "metadata": {},
     "output_type": "execute_result"
    }
   ],
   "source": [
    "# Import Libaries\n",
    "\n",
    "import requests\n",
    "import json\n",
    "import pandas as pd\n",
    "\n",
    "#Create function to pull JSON data from CDC API\n",
    "\n",
    "def CDC_Pull (ThemeId,ThemeSubClassId):\n",
    "    url = \"https://nccd.cdc.gov/DHDSPAtlas/proxy.ashx?https://proxy/api/data\"\n",
    "    payload = json.dumps({\n",
    "      \"CountyVersion\": \"2018\",\n",
    "      \"GeographyType\": \"county\",\n",
    "      \"ParentGeographyFilter\": \"\",\n",
    "      \"ThemeClassId\": 2,\n",
    "      \"ThemeFilterOptions\": [],\n",
    "      \"ThemeId\": ThemeId,\n",
    "      \"ThemeSubClassId\": ThemeSubClassId,\n",
    "    }, indent=4)\n",
    "    headers = {\n",
    "      'Content-Type': 'application/json',\n",
    "      'Cookie': 'TS01ae363a=015d0abe8785e5b669589a99d047712fb1a00a60e1bccd9ee6909e7b2919ccad01d4b5ace6a65d1b843858eac8ee73347cee59aaf5'\n",
    "    }\n",
    "    response = requests.request(\"POST\", url, headers=headers, data=payload)\n",
    "    return response\n",
    "\n",
    "# Request for the Percent of populaiton with less than a high shcool education by County\n",
    "\n",
    "Percent_Pop_LessHS = 36\n",
    "Sub_ID = 12\n",
    "\n",
    "#Ensure correct JSON formatting\n",
    "\n",
    "res = CDC_Pull(Percent_Pop_LessHS,Sub_ID).json()\n",
    "\n",
    "# Convert RAW JSON into DataFrame\n",
    "\n",
    "Json_DF_HS = pd.json_normalize(res['Data'])\n",
    "\n",
    "# Rename Value to Correct Column title, will change for every COl\n",
    "## Display DataFrame\n",
    "\n",
    "json_df_HS = Json_DF_HS.rename(columns={'Value': 'Percent of Population with less than Highschool education'})\n",
    "json_df_HS"
   ]
  },
  {
   "cell_type": "code",
   "execution_count": 6,
   "metadata": {},
   "outputs": [
    {
     "ename": "JSONDecodeError",
     "evalue": "Expecting value: line 4 column 1 (char 6)",
     "output_type": "error",
     "traceback": [
      "\u001b[1;31m---------------------------------------------------------------------------\u001b[0m",
      "\u001b[1;31mJSONDecodeError\u001b[0m                           Traceback (most recent call last)",
      "\u001b[1;32m<ipython-input-6-b2f19e8fac51>\u001b[0m in \u001b[0;36m<module>\u001b[1;34m\u001b[0m\n\u001b[0;32m      4\u001b[0m \u001b[1;31m#Ensure correct JSON formatting\u001b[0m\u001b[1;33m\u001b[0m\u001b[1;33m\u001b[0m\u001b[1;33m\u001b[0m\u001b[0m\n\u001b[0;32m      5\u001b[0m \u001b[1;33m\u001b[0m\u001b[0m\n\u001b[1;32m----> 6\u001b[1;33m \u001b[0mres_CED\u001b[0m \u001b[1;33m=\u001b[0m \u001b[0mCDC_Pull\u001b[0m\u001b[1;33m(\u001b[0m\u001b[0mCollege_ED_Pop_TID\u001b[0m\u001b[1;33m,\u001b[0m\u001b[0mSub_ID\u001b[0m\u001b[1;33m)\u001b[0m\u001b[1;33m.\u001b[0m\u001b[0mjson\u001b[0m\u001b[1;33m(\u001b[0m\u001b[1;33m)\u001b[0m\u001b[1;33m\u001b[0m\u001b[1;33m\u001b[0m\u001b[0m\n\u001b[0m\u001b[0;32m      7\u001b[0m \u001b[1;33m\u001b[0m\u001b[0m\n\u001b[0;32m      8\u001b[0m \u001b[1;31m# Convert RAW JSON into DataFrame\u001b[0m\u001b[1;33m\u001b[0m\u001b[1;33m\u001b[0m\u001b[1;33m\u001b[0m\u001b[0m\n",
      "\u001b[1;32m~\\anaconda3\\lib\\site-packages\\requests\\models.py\u001b[0m in \u001b[0;36mjson\u001b[1;34m(self, **kwargs)\u001b[0m\n\u001b[0;32m    896\u001b[0m                     \u001b[1;31m# used.\u001b[0m\u001b[1;33m\u001b[0m\u001b[1;33m\u001b[0m\u001b[1;33m\u001b[0m\u001b[0m\n\u001b[0;32m    897\u001b[0m                     \u001b[1;32mpass\u001b[0m\u001b[1;33m\u001b[0m\u001b[1;33m\u001b[0m\u001b[0m\n\u001b[1;32m--> 898\u001b[1;33m         \u001b[1;32mreturn\u001b[0m \u001b[0mcomplexjson\u001b[0m\u001b[1;33m.\u001b[0m\u001b[0mloads\u001b[0m\u001b[1;33m(\u001b[0m\u001b[0mself\u001b[0m\u001b[1;33m.\u001b[0m\u001b[0mtext\u001b[0m\u001b[1;33m,\u001b[0m \u001b[1;33m**\u001b[0m\u001b[0mkwargs\u001b[0m\u001b[1;33m)\u001b[0m\u001b[1;33m\u001b[0m\u001b[1;33m\u001b[0m\u001b[0m\n\u001b[0m\u001b[0;32m    899\u001b[0m \u001b[1;33m\u001b[0m\u001b[0m\n\u001b[0;32m    900\u001b[0m     \u001b[1;33m@\u001b[0m\u001b[0mproperty\u001b[0m\u001b[1;33m\u001b[0m\u001b[1;33m\u001b[0m\u001b[0m\n",
      "\u001b[1;32m~\\anaconda3\\lib\\json\\__init__.py\u001b[0m in \u001b[0;36mloads\u001b[1;34m(s, cls, object_hook, parse_float, parse_int, parse_constant, object_pairs_hook, **kw)\u001b[0m\n\u001b[0;32m    355\u001b[0m             \u001b[0mparse_int\u001b[0m \u001b[1;32mis\u001b[0m \u001b[1;32mNone\u001b[0m \u001b[1;32mand\u001b[0m \u001b[0mparse_float\u001b[0m \u001b[1;32mis\u001b[0m \u001b[1;32mNone\u001b[0m \u001b[1;32mand\u001b[0m\u001b[1;33m\u001b[0m\u001b[1;33m\u001b[0m\u001b[0m\n\u001b[0;32m    356\u001b[0m             parse_constant is None and object_pairs_hook is None and not kw):\n\u001b[1;32m--> 357\u001b[1;33m         \u001b[1;32mreturn\u001b[0m \u001b[0m_default_decoder\u001b[0m\u001b[1;33m.\u001b[0m\u001b[0mdecode\u001b[0m\u001b[1;33m(\u001b[0m\u001b[0ms\u001b[0m\u001b[1;33m)\u001b[0m\u001b[1;33m\u001b[0m\u001b[1;33m\u001b[0m\u001b[0m\n\u001b[0m\u001b[0;32m    358\u001b[0m     \u001b[1;32mif\u001b[0m \u001b[0mcls\u001b[0m \u001b[1;32mis\u001b[0m \u001b[1;32mNone\u001b[0m\u001b[1;33m:\u001b[0m\u001b[1;33m\u001b[0m\u001b[1;33m\u001b[0m\u001b[0m\n\u001b[0;32m    359\u001b[0m         \u001b[0mcls\u001b[0m \u001b[1;33m=\u001b[0m \u001b[0mJSONDecoder\u001b[0m\u001b[1;33m\u001b[0m\u001b[1;33m\u001b[0m\u001b[0m\n",
      "\u001b[1;32m~\\anaconda3\\lib\\json\\decoder.py\u001b[0m in \u001b[0;36mdecode\u001b[1;34m(self, s, _w)\u001b[0m\n\u001b[0;32m    335\u001b[0m \u001b[1;33m\u001b[0m\u001b[0m\n\u001b[0;32m    336\u001b[0m         \"\"\"\n\u001b[1;32m--> 337\u001b[1;33m         \u001b[0mobj\u001b[0m\u001b[1;33m,\u001b[0m \u001b[0mend\u001b[0m \u001b[1;33m=\u001b[0m \u001b[0mself\u001b[0m\u001b[1;33m.\u001b[0m\u001b[0mraw_decode\u001b[0m\u001b[1;33m(\u001b[0m\u001b[0ms\u001b[0m\u001b[1;33m,\u001b[0m \u001b[0midx\u001b[0m\u001b[1;33m=\u001b[0m\u001b[0m_w\u001b[0m\u001b[1;33m(\u001b[0m\u001b[0ms\u001b[0m\u001b[1;33m,\u001b[0m \u001b[1;36m0\u001b[0m\u001b[1;33m)\u001b[0m\u001b[1;33m.\u001b[0m\u001b[0mend\u001b[0m\u001b[1;33m(\u001b[0m\u001b[1;33m)\u001b[0m\u001b[1;33m)\u001b[0m\u001b[1;33m\u001b[0m\u001b[1;33m\u001b[0m\u001b[0m\n\u001b[0m\u001b[0;32m    338\u001b[0m         \u001b[0mend\u001b[0m \u001b[1;33m=\u001b[0m \u001b[0m_w\u001b[0m\u001b[1;33m(\u001b[0m\u001b[0ms\u001b[0m\u001b[1;33m,\u001b[0m \u001b[0mend\u001b[0m\u001b[1;33m)\u001b[0m\u001b[1;33m.\u001b[0m\u001b[0mend\u001b[0m\u001b[1;33m(\u001b[0m\u001b[1;33m)\u001b[0m\u001b[1;33m\u001b[0m\u001b[1;33m\u001b[0m\u001b[0m\n\u001b[0;32m    339\u001b[0m         \u001b[1;32mif\u001b[0m \u001b[0mend\u001b[0m \u001b[1;33m!=\u001b[0m \u001b[0mlen\u001b[0m\u001b[1;33m(\u001b[0m\u001b[0ms\u001b[0m\u001b[1;33m)\u001b[0m\u001b[1;33m:\u001b[0m\u001b[1;33m\u001b[0m\u001b[1;33m\u001b[0m\u001b[0m\n",
      "\u001b[1;32m~\\anaconda3\\lib\\json\\decoder.py\u001b[0m in \u001b[0;36mraw_decode\u001b[1;34m(self, s, idx)\u001b[0m\n\u001b[0;32m    353\u001b[0m             \u001b[0mobj\u001b[0m\u001b[1;33m,\u001b[0m \u001b[0mend\u001b[0m \u001b[1;33m=\u001b[0m \u001b[0mself\u001b[0m\u001b[1;33m.\u001b[0m\u001b[0mscan_once\u001b[0m\u001b[1;33m(\u001b[0m\u001b[0ms\u001b[0m\u001b[1;33m,\u001b[0m \u001b[0midx\u001b[0m\u001b[1;33m)\u001b[0m\u001b[1;33m\u001b[0m\u001b[1;33m\u001b[0m\u001b[0m\n\u001b[0;32m    354\u001b[0m         \u001b[1;32mexcept\u001b[0m \u001b[0mStopIteration\u001b[0m \u001b[1;32mas\u001b[0m \u001b[0merr\u001b[0m\u001b[1;33m:\u001b[0m\u001b[1;33m\u001b[0m\u001b[1;33m\u001b[0m\u001b[0m\n\u001b[1;32m--> 355\u001b[1;33m             \u001b[1;32mraise\u001b[0m \u001b[0mJSONDecodeError\u001b[0m\u001b[1;33m(\u001b[0m\u001b[1;34m\"Expecting value\"\u001b[0m\u001b[1;33m,\u001b[0m \u001b[0ms\u001b[0m\u001b[1;33m,\u001b[0m \u001b[0merr\u001b[0m\u001b[1;33m.\u001b[0m\u001b[0mvalue\u001b[0m\u001b[1;33m)\u001b[0m \u001b[1;32mfrom\u001b[0m \u001b[1;32mNone\u001b[0m\u001b[1;33m\u001b[0m\u001b[1;33m\u001b[0m\u001b[0m\n\u001b[0m\u001b[0;32m    356\u001b[0m         \u001b[1;32mreturn\u001b[0m \u001b[0mobj\u001b[0m\u001b[1;33m,\u001b[0m \u001b[0mend\u001b[0m\u001b[1;33m\u001b[0m\u001b[1;33m\u001b[0m\u001b[0m\n",
      "\u001b[1;31mJSONDecodeError\u001b[0m: Expecting value: line 4 column 1 (char 6)"
     ]
    }
   ],
   "source": [
    "# Request for the Percent Population with less than a college education by County\n",
    "College_ED_Pop_TID = 37\n",
    "Sub_ID = 12\n",
    "#Ensure correct JSON formatting\n",
    "\n",
    "res_CED = CDC_Pull(College_ED_Pop_TID,Sub_ID).json()\n",
    "\n",
    "# Convert RAW JSON into DataFrame\n",
    "\n",
    "Json_DF_CED = pd.json_normalize(res_CED['Data'])\n",
    "\n",
    "# Rename Value to Correct Column title, will change for every COl\n",
    "## Display DataFrame\n",
    "\n",
    "json_df_CED= Json_DF_CED.rename(columns={'Value': 'Percent of Population with less than College Education'})\n",
    "json_df_CED"
   ]
  },
  {
   "cell_type": "code",
   "execution_count": null,
   "metadata": {},
   "outputs": [],
   "source": [
    "# Request for the Percent of Households with a feamale as head of house by County\n",
    "Female_Headed_Pop_TID = 32\n",
    "Sub_ID = 12\n",
    "#Ensure correct JSON formatting\n",
    "\n",
    "res_FH = CDC_Pull(Female_Headed_Pop_TID,Sub_ID).json()\n",
    "\n",
    "# Convert RAW JSON into DataFrame\n",
    "\n",
    "Json_DF_FH = pd.json_normalize(res_FH['Data'])\n",
    "\n",
    "# Rename Value to Correct Column title, will change for every COl\n",
    "## Display DataFrame\n",
    "\n",
    "json_df_FH = Json_DF_FH.rename(columns={'Value': 'Percent of Female-Headed households'})\n",
    "json_df_FH"
   ]
  },
  {
   "cell_type": "code",
   "execution_count": null,
   "metadata": {},
   "outputs": [],
   "source": [
    "# Request for the Percent of population on food subsidies by County\n",
    "Food_Stamp_Pop_TID = 41\n",
    "Sub_ID = 12\n",
    "#Ensure correct JSON formatting\n",
    "\n",
    "res_FS = CDC_Pull(Food_Stamp_Pop_TID,Sub_ID).json()\n",
    "\n",
    "# Convert RAW JSON into DataFrame\n",
    "\n",
    "Json_DF_FS = pd.json_normalize(res_FS['Data'])\n",
    "\n",
    "# Rename Value to Correct Column title, will change for every COl\n",
    "## Display DataFrame\n",
    "\n",
    "json_df_FS = Json_DF_FS.rename(columns={'Value': 'Percent of Population on Food Stamps/SNAP'})\n",
    "json_df_FS"
   ]
  },
  {
   "cell_type": "code",
   "execution_count": null,
   "metadata": {},
   "outputs": [],
   "source": [
    "# Request for the Percent of Median Home Value by County\n",
    "Median_Home_Value_TID = 35\n",
    "Sub_ID = 12\n",
    "#Ensure correct JSON formatting\n",
    "\n",
    "res_HV = CDC_Pull(Median_Home_Value_TID,Sub_ID).json()\n",
    "\n",
    "# Convert RAW JSON into DataFrame\n",
    "\n",
    "Json_DF_HV = pd.json_normalize(res_HV['Data'])\n",
    "\n",
    "# Rename Value to Correct Column title, will change for every COl\n",
    "## Display DataFrame\n",
    "\n",
    "json_df_HV = Json_DF_HV.rename(columns={'Value': 'Median Home Value'})\n",
    "json_df_HV"
   ]
  },
  {
   "cell_type": "code",
   "execution_count": null,
   "metadata": {},
   "outputs": [],
   "source": [
    "# Request for the Percent of Median Home Value by County\n",
    "Median_House_Hold_Income_Value_TID = 54\n",
    "Sub_ID = 12\n",
    "#Ensure correct JSON formatting\n",
    "\n",
    "res_HHI = CDC_Pull(Median_House_Hold_Income_Value_TID,Sub_ID).json()\n",
    "\n",
    "# Convert RAW JSON into DataFrame\n",
    "\n",
    "Json_DF_HHI = pd.json_normalize(res_HHI['Data'])\n",
    "\n",
    "# Rename Value to Correct Column title, will change for every COl\n",
    "## Display DataFrame\n",
    "\n",
    "json_df_HHI = Json_DF_HHI.rename(columns={'Value': 'Median Household Income'})\n",
    "json_df_HHI"
   ]
  },
  {
   "cell_type": "code",
   "execution_count": null,
   "metadata": {},
   "outputs": [],
   "source": [
    "# Request for the Percent of Median Home Value by County\n",
    "Income_Inequality_TID = 60\n",
    "Sub_ID = 12\n",
    "#Ensure correct JSON formatting\n",
    "\n",
    "res_II = CDC_Pull(Income_Inequality_TID,Sub_ID).json()\n",
    "\n",
    "# Convert RAW JSON into DataFrame\n",
    "\n",
    "Json_DF_II = pd.json_normalize(res_II['Data'])\n",
    "\n",
    "# Rename Value to Correct Column title, will change for every COl\n",
    "## Display DataFrame\n",
    "\n",
    "json_df_II = Json_DF_II.rename(columns={'Value': 'Income Inequality using the Gini Index'})\n",
    "json_df_II"
   ]
  },
  {
   "cell_type": "code",
   "execution_count": null,
   "metadata": {},
   "outputs": [],
   "source": [
    "# Request for the Percent of Median Home Value by County\n",
    "Poverty_Percent_TID = 52\n",
    "Sub_ID = 12\n",
    "#Ensure correct JSON formatting\n",
    "\n",
    "res_PP = CDC_Pull(Poverty_Percent_TID,Sub_ID).json()\n",
    "\n",
    "# Convert RAW JSON into DataFrame\n",
    "\n",
    "Json_DF_PP = pd.json_normalize(res_PP['Data'])\n",
    "\n",
    "# Rename Value to Correct Column title, will change for every COl\n",
    "## Display DataFrame\n",
    "\n",
    "json_df_PP = Json_DF_PP.rename(columns={'Value': 'Percent of the population below the poverty line'})\n",
    "json_df_PP"
   ]
  },
  {
   "cell_type": "code",
   "execution_count": null,
   "metadata": {},
   "outputs": [],
   "source": [
    "# Request for the Percent of Median Home Value by County\n",
    "Unemployment_Rate_TID = 33\n",
    "Sub_ID = 12\n",
    "#Ensure correct JSON formatting\n",
    "\n",
    "res_UMPR = CDC_Pull(Unemployment_Rate_TID,Sub_ID).json()\n",
    "\n",
    "# Convert RAW JSON into DataFrame\n",
    "\n",
    "Json_DF_UMPR = pd.json_normalize(res_UMPR['Data'])\n",
    "\n",
    "# Rename Value to Correct Column title, will change for every COl\n",
    "## Display DataFrame\n",
    "\n",
    "json_df_UMPR = Json_DF_UMPR.rename(columns={'Value': 'Unemployment Rate'})\n",
    "json_df_UMPR"
   ]
  },
  {
   "cell_type": "code",
   "execution_count": null,
   "metadata": {},
   "outputs": [],
   "source": [
    "# Import the Reduce funtion to make creation to the tables better\n",
    "\n",
    "from functools import reduce"
   ]
  },
  {
   "cell_type": "code",
   "execution_count": null,
   "metadata": {},
   "outputs": [],
   "source": [
    "#Create List of dataframes to combine\n",
    "\n",
    "Data_Frames = [json_df_HS,json_df_CED,json_df_FH,json_df_FS,json_df_HHI,json_df_HV,json_df_II,json_df_PP]\n",
    "\n",
    "#Use Reduce to interate an innerjoin through the dataframes and create final data frame\n",
    "\n",
    "df_final = reduce(lambda left,right: pd.merge(left,right,on='Key'), Data_Frames)\n",
    "df_final_clean = df_final.drop(['CensusTractName_x','DisplayText_x','ParentText_x','ThemeRangeId_x','CensusTractName_y','DisplayText_y','ParentText_y','ThemeRangeId_y','CensusTractName','DisplayText','ParentText','ThemeRangeId'], axis=1)\n",
    "df_final_clean"
   ]
  },
  {
   "cell_type": "code",
   "execution_count": null,
   "metadata": {},
   "outputs": [],
   "source": []
  }
 ],
 "metadata": {
  "kernelspec": {
   "display_name": "Python 3",
   "language": "python",
   "name": "python3"
  },
  "language_info": {
   "codemirror_mode": {
    "name": "ipython",
    "version": 3
   },
   "file_extension": ".py",
   "mimetype": "text/x-python",
   "name": "python",
   "nbconvert_exporter": "python",
   "pygments_lexer": "ipython3",
   "version": "3.8.5"
  }
 },
 "nbformat": 4,
 "nbformat_minor": 4
}
