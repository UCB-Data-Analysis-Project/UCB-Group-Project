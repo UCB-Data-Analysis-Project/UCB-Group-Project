{
  "nbformat": 4,
  "nbformat_minor": 0,
  "metadata": {
    "colab": {
      "name": "Demo_CDC_stats.ipynb",
      "provenance": [],
      "collapsed_sections": []
    },
    "kernelspec": {
      "name": "python3",
      "display_name": "Python 3"
    },
    "language_info": {
      "name": "python"
    }
  },
  "cells": [
    {
      "cell_type": "code",
      "metadata": {
        "colab": {
          "base_uri": "https://localhost:8080/"
        },
        "id": "glp1eH2i4G3S",
        "outputId": "887e64a9-1d1d-4873-8d83-8befa65f2d41"
      },
      "source": [
        "# Import our dependencies\n",
        "from sklearn.model_selection import train_test_split\n",
        "from sklearn.preprocessing import StandardScaler\n",
        "from sklearn.metrics import accuracy_score\n",
        "import pandas as pd\n",
        "import tensorflow as tf\n",
        "\n",
        "# Import our input dataset\n",
        "Demo_CDC_df = pd.read_csv('https://ucbheartproject.s3.us-east-2.amazonaws.com/Demo_CDC_Stats_by_County.csv')\n",
        "Demo_CDC_df.info()"
      ],
      "execution_count": null,
      "outputs": [
        {
          "output_type": "stream",
          "text": [
            "<class 'pandas.core.frame.DataFrame'>\n",
            "RangeIndex: 3226 entries, 0 to 3225\n",
            "Data columns (total 11 columns):\n",
            " #   Column                                        Non-Null Count  Dtype  \n",
            "---  ------                                        --------------  -----  \n",
            " 0   CensusTractName_x                             0 non-null      float64\n",
            " 1   DisplayText_x                                 3226 non-null   object \n",
            " 2   Key                                           3226 non-null   int64  \n",
            " 3   ParentText_x                                  3226 non-null   object \n",
            " 4   ThemeRangeId_x                                3226 non-null   int64  \n",
            " 5   Percent of Black Population                   3226 non-null   float64\n",
            " 6   Percent of Native American Population         3226 non-null   float64\n",
            " 7   Percent of White Population                   3226 non-null   float64\n",
            " 8   Percent of Hispanic/Latino Population         3226 non-null   float64\n",
            " 9   Percent of Asian/Pacific Islander Population  3226 non-null   float64\n",
            " 10  Percent of Retired Population                 3226 non-null   float64\n",
            "dtypes: float64(7), int64(2), object(2)\n",
            "memory usage: 277.4+ KB\n"
          ],
          "name": "stdout"
        }
      ]
    },
    {
      "cell_type": "code",
      "metadata": {
        "colab": {
          "base_uri": "https://localhost:8080/",
          "height": 287
        },
        "id": "v3uuMQnK5pqt",
        "outputId": "e77fc844-a193-4f81-c0a5-5c18f872d9ca"
      },
      "source": [
        "Demo_CDC_df.head()"
      ],
      "execution_count": null,
      "outputs": [
        {
          "output_type": "execute_result",
          "data": {
            "text/html": [
              "<div>\n",
              "<style scoped>\n",
              "    .dataframe tbody tr th:only-of-type {\n",
              "        vertical-align: middle;\n",
              "    }\n",
              "\n",
              "    .dataframe tbody tr th {\n",
              "        vertical-align: top;\n",
              "    }\n",
              "\n",
              "    .dataframe thead th {\n",
              "        text-align: right;\n",
              "    }\n",
              "</style>\n",
              "<table border=\"1\" class=\"dataframe\">\n",
              "  <thead>\n",
              "    <tr style=\"text-align: right;\">\n",
              "      <th></th>\n",
              "      <th>CensusTractName_x</th>\n",
              "      <th>DisplayText_x</th>\n",
              "      <th>Key</th>\n",
              "      <th>ParentText_x</th>\n",
              "      <th>ThemeRangeId_x</th>\n",
              "      <th>Percent of Black Population</th>\n",
              "      <th>Percent of Native American Population</th>\n",
              "      <th>Percent of White Population</th>\n",
              "      <th>Percent of Hispanic/Latino Population</th>\n",
              "      <th>Percent of Asian/Pacific Islander Population</th>\n",
              "      <th>Percent of Retired Population</th>\n",
              "    </tr>\n",
              "  </thead>\n",
              "  <tbody>\n",
              "    <tr>\n",
              "      <th>0</th>\n",
              "      <td>NaN</td>\n",
              "      <td>American Samoa</td>\n",
              "      <td>60000</td>\n",
              "      <td>AS</td>\n",
              "      <td>0</td>\n",
              "      <td>-1.0</td>\n",
              "      <td>-1.0</td>\n",
              "      <td>-1.0</td>\n",
              "      <td>-1.0</td>\n",
              "      <td>-1.0</td>\n",
              "      <td>-1.0</td>\n",
              "    </tr>\n",
              "    <tr>\n",
              "      <th>1</th>\n",
              "      <td>NaN</td>\n",
              "      <td>Guam</td>\n",
              "      <td>66010</td>\n",
              "      <td>GU</td>\n",
              "      <td>0</td>\n",
              "      <td>-1.0</td>\n",
              "      <td>-1.0</td>\n",
              "      <td>-1.0</td>\n",
              "      <td>-1.0</td>\n",
              "      <td>-1.0</td>\n",
              "      <td>-1.0</td>\n",
              "    </tr>\n",
              "    <tr>\n",
              "      <th>2</th>\n",
              "      <td>NaN</td>\n",
              "      <td>Mariana Islands</td>\n",
              "      <td>69000</td>\n",
              "      <td>MP</td>\n",
              "      <td>0</td>\n",
              "      <td>-1.0</td>\n",
              "      <td>-1.0</td>\n",
              "      <td>-1.0</td>\n",
              "      <td>-1.0</td>\n",
              "      <td>-1.0</td>\n",
              "      <td>-1.0</td>\n",
              "    </tr>\n",
              "    <tr>\n",
              "      <th>3</th>\n",
              "      <td>NaN</td>\n",
              "      <td>Saint Croix (County Equivalent)</td>\n",
              "      <td>78010</td>\n",
              "      <td>VI</td>\n",
              "      <td>0</td>\n",
              "      <td>-1.0</td>\n",
              "      <td>-1.0</td>\n",
              "      <td>-1.0</td>\n",
              "      <td>-1.0</td>\n",
              "      <td>-1.0</td>\n",
              "      <td>-1.0</td>\n",
              "    </tr>\n",
              "    <tr>\n",
              "      <th>4</th>\n",
              "      <td>NaN</td>\n",
              "      <td>Saint John (County Equivalent)</td>\n",
              "      <td>78020</td>\n",
              "      <td>VI</td>\n",
              "      <td>0</td>\n",
              "      <td>-1.0</td>\n",
              "      <td>-1.0</td>\n",
              "      <td>-1.0</td>\n",
              "      <td>-1.0</td>\n",
              "      <td>-1.0</td>\n",
              "      <td>-1.0</td>\n",
              "    </tr>\n",
              "  </tbody>\n",
              "</table>\n",
              "</div>"
            ],
            "text/plain": [
              "   CensusTractName_x  ... Percent of Retired Population\n",
              "0                NaN  ...                          -1.0\n",
              "1                NaN  ...                          -1.0\n",
              "2                NaN  ...                          -1.0\n",
              "3                NaN  ...                          -1.0\n",
              "4                NaN  ...                          -1.0\n",
              "\n",
              "[5 rows x 11 columns]"
            ]
          },
          "metadata": {
            "tags": []
          },
          "execution_count": 3
        }
      ]
    },
    {
      "cell_type": "code",
      "metadata": {
        "colab": {
          "base_uri": "https://localhost:8080/"
        },
        "id": "yjS1awvUNYqm",
        "outputId": "a73c0a11-7825-4070-9661-84419643df0b"
      },
      "source": [
        "Demo_CDC_df.columns"
      ],
      "execution_count": null,
      "outputs": [
        {
          "output_type": "execute_result",
          "data": {
            "text/plain": [
              "Index(['CensusTractName_x', 'DisplayText_x', 'Key', 'ParentText_x',\n",
              "       'ThemeRangeId_x', 'Percent of Black Population',\n",
              "       'Percent of Native American Population', 'Percent of White Population',\n",
              "       'Percent of Hispanic/Latino Population',\n",
              "       'Percent of Asian/Pacific Islander Population',\n",
              "       'Percent of Retired Population'],\n",
              "      dtype='object')"
            ]
          },
          "metadata": {
            "tags": []
          },
          "execution_count": 4
        }
      ]
    },
    {
      "cell_type": "code",
      "metadata": {
        "id": "CrTJSd97NgVU"
      },
      "source": [
        "#Demo_CDC_df.columns = Demo_CDC_df.columns.str.replace('_','')\n",
        "Demo_CDC_rename_col = Demo_CDC_df.rename(columns={'CensusTractName_x':'CensusTractName_x', 'DisplayText_x':'DisplayText_x', 'Key':'Key', 'ParentText_x':'ParentText_x',\n",
        "        'Percent of Black Population':'Percent_of_Black_Population',\n",
        "       'Percent of Native American Population':'Percent_of_Native_American_Population','Percent of White Population':'Percent_of_White_Population',\n",
        "       'Percent of Hispanic/Latino Population':'Percent_of_Hispanic_or_Latino_Population','Percent of Asian/Pacific Islander Population':'Percent_of_Asian_or_Pacific_Islander_Population',\n",
        "       'Percent of Retired Population':'Percent_of_Retired_Population'},inplace = True)"
      ],
      "execution_count": null,
      "outputs": []
    },
    {
      "cell_type": "code",
      "metadata": {
        "id": "Xv8TqB3ahmfx"
      },
      "source": [
        "Demo_CDC_rename_col"
      ],
      "execution_count": null,
      "outputs": []
    },
    {
      "cell_type": "code",
      "metadata": {
        "colab": {
          "base_uri": "https://localhost:8080/"
        },
        "id": "tvE_Npu-OYXH",
        "outputId": "36cdccfb-838d-4a5c-801b-09c3ef1a77aa"
      },
      "source": [
        "Demo_CDC_df.columns"
      ],
      "execution_count": null,
      "outputs": [
        {
          "output_type": "execute_result",
          "data": {
            "text/plain": [
              "Index(['CensusTractName_x', 'DisplayText_x', 'Key', 'ParentText_x',\n",
              "       'ThemeRangeId_x', 'Percent_of_Black_Population',\n",
              "       'Percent_of_Native_American_Population', 'Percent_of_White_Population',\n",
              "       'Percent_of_Hispanic_or_Latino_Population',\n",
              "       'Percent_of_Asian_or_Pacific_Islander_Population',\n",
              "       'Percent_of_Retired_Population'],\n",
              "      dtype='object')"
            ]
          },
          "metadata": {
            "tags": []
          },
          "execution_count": 7
        }
      ]
    },
    {
      "cell_type": "code",
      "metadata": {
        "colab": {
          "base_uri": "https://localhost:8080/",
          "height": 307
        },
        "id": "5K1lhk_TOje0",
        "outputId": "b9df1ac3-24c2-4a3b-d1eb-b72fc220bd1f"
      },
      "source": [
        "Demo_CDC_df.head()\n"
      ],
      "execution_count": null,
      "outputs": [
        {
          "output_type": "execute_result",
          "data": {
            "text/html": [
              "<div>\n",
              "<style scoped>\n",
              "    .dataframe tbody tr th:only-of-type {\n",
              "        vertical-align: middle;\n",
              "    }\n",
              "\n",
              "    .dataframe tbody tr th {\n",
              "        vertical-align: top;\n",
              "    }\n",
              "\n",
              "    .dataframe thead th {\n",
              "        text-align: right;\n",
              "    }\n",
              "</style>\n",
              "<table border=\"1\" class=\"dataframe\">\n",
              "  <thead>\n",
              "    <tr style=\"text-align: right;\">\n",
              "      <th></th>\n",
              "      <th>CensusTractName_x</th>\n",
              "      <th>DisplayText_x</th>\n",
              "      <th>Key</th>\n",
              "      <th>ParentText_x</th>\n",
              "      <th>ThemeRangeId_x</th>\n",
              "      <th>Percent_of_Black_Population</th>\n",
              "      <th>Percent_of_Native_American_Population</th>\n",
              "      <th>Percent_of_White_Population</th>\n",
              "      <th>Percent_of_Hispanic_or_Latino_Population</th>\n",
              "      <th>Percent_of_Asian_or_Pacific_Islander_Population</th>\n",
              "      <th>Percent_of_Retired_Population</th>\n",
              "    </tr>\n",
              "  </thead>\n",
              "  <tbody>\n",
              "    <tr>\n",
              "      <th>0</th>\n",
              "      <td>NaN</td>\n",
              "      <td>American Samoa</td>\n",
              "      <td>60000</td>\n",
              "      <td>AS</td>\n",
              "      <td>0</td>\n",
              "      <td>-1.0</td>\n",
              "      <td>-1.0</td>\n",
              "      <td>-1.0</td>\n",
              "      <td>-1.0</td>\n",
              "      <td>-1.0</td>\n",
              "      <td>-1.0</td>\n",
              "    </tr>\n",
              "    <tr>\n",
              "      <th>1</th>\n",
              "      <td>NaN</td>\n",
              "      <td>Guam</td>\n",
              "      <td>66010</td>\n",
              "      <td>GU</td>\n",
              "      <td>0</td>\n",
              "      <td>-1.0</td>\n",
              "      <td>-1.0</td>\n",
              "      <td>-1.0</td>\n",
              "      <td>-1.0</td>\n",
              "      <td>-1.0</td>\n",
              "      <td>-1.0</td>\n",
              "    </tr>\n",
              "    <tr>\n",
              "      <th>2</th>\n",
              "      <td>NaN</td>\n",
              "      <td>Mariana Islands</td>\n",
              "      <td>69000</td>\n",
              "      <td>MP</td>\n",
              "      <td>0</td>\n",
              "      <td>-1.0</td>\n",
              "      <td>-1.0</td>\n",
              "      <td>-1.0</td>\n",
              "      <td>-1.0</td>\n",
              "      <td>-1.0</td>\n",
              "      <td>-1.0</td>\n",
              "    </tr>\n",
              "    <tr>\n",
              "      <th>3</th>\n",
              "      <td>NaN</td>\n",
              "      <td>Saint Croix (County Equivalent)</td>\n",
              "      <td>78010</td>\n",
              "      <td>VI</td>\n",
              "      <td>0</td>\n",
              "      <td>-1.0</td>\n",
              "      <td>-1.0</td>\n",
              "      <td>-1.0</td>\n",
              "      <td>-1.0</td>\n",
              "      <td>-1.0</td>\n",
              "      <td>-1.0</td>\n",
              "    </tr>\n",
              "    <tr>\n",
              "      <th>4</th>\n",
              "      <td>NaN</td>\n",
              "      <td>Saint John (County Equivalent)</td>\n",
              "      <td>78020</td>\n",
              "      <td>VI</td>\n",
              "      <td>0</td>\n",
              "      <td>-1.0</td>\n",
              "      <td>-1.0</td>\n",
              "      <td>-1.0</td>\n",
              "      <td>-1.0</td>\n",
              "      <td>-1.0</td>\n",
              "      <td>-1.0</td>\n",
              "    </tr>\n",
              "  </tbody>\n",
              "</table>\n",
              "</div>"
            ],
            "text/plain": [
              "   CensusTractName_x  ... Percent_of_Retired_Population\n",
              "0                NaN  ...                          -1.0\n",
              "1                NaN  ...                          -1.0\n",
              "2                NaN  ...                          -1.0\n",
              "3                NaN  ...                          -1.0\n",
              "4                NaN  ...                          -1.0\n",
              "\n",
              "[5 rows x 11 columns]"
            ]
          },
          "metadata": {
            "tags": []
          },
          "execution_count": 8
        }
      ]
    },
    {
      "cell_type": "code",
      "metadata": {
        "id": "Vu-v4Xu5S7cG"
      },
      "source": [
        ""
      ],
      "execution_count": null,
      "outputs": []
    },
    {
      "cell_type": "code",
      "metadata": {
        "colab": {
          "base_uri": "https://localhost:8080/",
          "height": 315
        },
        "id": "R8DQTFSi6Oit",
        "outputId": "c6b9631a-1f15-48ce-f7bb-5b25a35febe8"
      },
      "source": [
        "Demo_CDC_df.describe()"
      ],
      "execution_count": null,
      "outputs": [
        {
          "output_type": "execute_result",
          "data": {
            "text/html": [
              "<div>\n",
              "<style scoped>\n",
              "    .dataframe tbody tr th:only-of-type {\n",
              "        vertical-align: middle;\n",
              "    }\n",
              "\n",
              "    .dataframe tbody tr th {\n",
              "        vertical-align: top;\n",
              "    }\n",
              "\n",
              "    .dataframe thead th {\n",
              "        text-align: right;\n",
              "    }\n",
              "</style>\n",
              "<table border=\"1\" class=\"dataframe\">\n",
              "  <thead>\n",
              "    <tr style=\"text-align: right;\">\n",
              "      <th></th>\n",
              "      <th>CensusTractName_x</th>\n",
              "      <th>Key</th>\n",
              "      <th>ThemeRangeId_x</th>\n",
              "      <th>Percent_of_Black_Population</th>\n",
              "      <th>Percent_of_Native_American_Population</th>\n",
              "      <th>Percent_of_White_Population</th>\n",
              "      <th>Percent_of_Hispanic_or_Latino_Population</th>\n",
              "      <th>Percent_of_Asian_or_Pacific_Islander_Population</th>\n",
              "      <th>Percent_of_Retired_Population</th>\n",
              "    </tr>\n",
              "  </thead>\n",
              "  <tbody>\n",
              "    <tr>\n",
              "      <th>count</th>\n",
              "      <td>0.0</td>\n",
              "      <td>3226.000000</td>\n",
              "      <td>3226.000000</td>\n",
              "      <td>3226.000000</td>\n",
              "      <td>3226.000000</td>\n",
              "      <td>3226.000000</td>\n",
              "      <td>3226.000000</td>\n",
              "      <td>3226.000000</td>\n",
              "      <td>3226.000000</td>\n",
              "    </tr>\n",
              "    <tr>\n",
              "      <th>mean</th>\n",
              "      <td>NaN</td>\n",
              "      <td>31468.220397</td>\n",
              "      <td>2.967142</td>\n",
              "      <td>8.640143</td>\n",
              "      <td>1.735462</td>\n",
              "      <td>74.474768</td>\n",
              "      <td>11.357967</td>\n",
              "      <td>1.353286</td>\n",
              "      <td>18.334191</td>\n",
              "    </tr>\n",
              "    <tr>\n",
              "      <th>std</th>\n",
              "      <td>NaN</td>\n",
              "      <td>16371.274194</td>\n",
              "      <td>1.439263</td>\n",
              "      <td>14.344975</td>\n",
              "      <td>7.458918</td>\n",
              "      <td>23.285517</td>\n",
              "      <td>19.361114</td>\n",
              "      <td>3.044012</td>\n",
              "      <td>4.617997</td>\n",
              "    </tr>\n",
              "    <tr>\n",
              "      <th>min</th>\n",
              "      <td>NaN</td>\n",
              "      <td>1001.000000</td>\n",
              "      <td>0.000000</td>\n",
              "      <td>-1.000000</td>\n",
              "      <td>-1.000000</td>\n",
              "      <td>-1.000000</td>\n",
              "      <td>-1.000000</td>\n",
              "      <td>-1.000000</td>\n",
              "      <td>-1.000000</td>\n",
              "    </tr>\n",
              "    <tr>\n",
              "      <th>25%</th>\n",
              "      <td>NaN</td>\n",
              "      <td>19035.500000</td>\n",
              "      <td>2.000000</td>\n",
              "      <td>0.500000</td>\n",
              "      <td>0.100000</td>\n",
              "      <td>63.025000</td>\n",
              "      <td>2.100000</td>\n",
              "      <td>0.200000</td>\n",
              "      <td>15.500000</td>\n",
              "    </tr>\n",
              "    <tr>\n",
              "      <th>50%</th>\n",
              "      <td>NaN</td>\n",
              "      <td>30030.000000</td>\n",
              "      <td>3.000000</td>\n",
              "      <td>2.000000</td>\n",
              "      <td>0.200000</td>\n",
              "      <td>83.150000</td>\n",
              "      <td>4.200000</td>\n",
              "      <td>0.600000</td>\n",
              "      <td>18.000000</td>\n",
              "    </tr>\n",
              "    <tr>\n",
              "      <th>75%</th>\n",
              "      <td>NaN</td>\n",
              "      <td>46116.500000</td>\n",
              "      <td>4.000000</td>\n",
              "      <td>9.475000</td>\n",
              "      <td>0.600000</td>\n",
              "      <td>92.500000</td>\n",
              "      <td>10.200000</td>\n",
              "      <td>1.300000</td>\n",
              "      <td>20.800000</td>\n",
              "    </tr>\n",
              "    <tr>\n",
              "      <th>max</th>\n",
              "      <td>NaN</td>\n",
              "      <td>78030.000000</td>\n",
              "      <td>5.000000</td>\n",
              "      <td>87.400000</td>\n",
              "      <td>90.900000</td>\n",
              "      <td>100.000000</td>\n",
              "      <td>100.000000</td>\n",
              "      <td>53.300000</td>\n",
              "      <td>55.600000</td>\n",
              "    </tr>\n",
              "  </tbody>\n",
              "</table>\n",
              "</div>"
            ],
            "text/plain": [
              "       CensusTractName_x  ...  Percent_of_Retired_Population\n",
              "count                0.0  ...                    3226.000000\n",
              "mean                 NaN  ...                      18.334191\n",
              "std                  NaN  ...                       4.617997\n",
              "min                  NaN  ...                      -1.000000\n",
              "25%                  NaN  ...                      15.500000\n",
              "50%                  NaN  ...                      18.000000\n",
              "75%                  NaN  ...                      20.800000\n",
              "max                  NaN  ...                      55.600000\n",
              "\n",
              "[8 rows x 9 columns]"
            ]
          },
          "metadata": {
            "tags": []
          },
          "execution_count": 9
        }
      ]
    },
    {
      "cell_type": "markdown",
      "metadata": {
        "id": "qRTFRlcc9cbV"
      },
      "source": [
        "Grouping the categrical value by ONEHOTSOUP ENCODER"
      ]
    },
    {
      "cell_type": "code",
      "metadata": {
        "colab": {
          "base_uri": "https://localhost:8080/"
        },
        "id": "2vunO4yT8LrV",
        "outputId": "acaf282b-6661-4807-fc03-074864a9f80a"
      },
      "source": [
        "Demo_CDC_df.DisplayText_x .value_counts()\n"
      ],
      "execution_count": null,
      "outputs": [
        {
          "output_type": "execute_result",
          "data": {
            "text/plain": [
              "Washington         31\n",
              "Jefferson          26\n",
              "Franklin           24\n",
              "Jackson            24\n",
              "Lincoln            24\n",
              "                   ..\n",
              "Erath               1\n",
              "Mariana Islands     1\n",
              "Sequoyah            1\n",
              "Haakon              1\n",
              "Yancey              1\n",
              "Name: DisplayText_x, Length: 1926, dtype: int64"
            ]
          },
          "metadata": {
            "tags": []
          },
          "execution_count": 10
        }
      ]
    },
    {
      "cell_type": "code",
      "metadata": {
        "colab": {
          "base_uri": "https://localhost:8080/"
        },
        "id": "lDcIx5eG-IUU",
        "outputId": "321b42f2-20ce-416c-b686-060e02d53817"
      },
      "source": [
        "Demo_CDC_df.ParentText_x.value_counts()"
      ],
      "execution_count": null,
      "outputs": [
        {
          "output_type": "execute_result",
          "data": {
            "text/plain": [
              "TX    254\n",
              "GA    159\n",
              "VA    133\n",
              "KY    120\n",
              "MO    115\n",
              "KS    105\n",
              "IL    102\n",
              "NC    100\n",
              "IA     99\n",
              "TN     95\n",
              "NE     93\n",
              "IN     92\n",
              "OH     88\n",
              "MN     87\n",
              "MI     83\n",
              "MS     82\n",
              "PR     78\n",
              "OK     77\n",
              "AR     75\n",
              "WI     72\n",
              "PA     67\n",
              "AL     67\n",
              "FL     67\n",
              "SD     66\n",
              "LA     64\n",
              "CO     64\n",
              "NY     62\n",
              "CA     58\n",
              "MT     56\n",
              "WV     55\n",
              "ND     53\n",
              "SC     46\n",
              "ID     44\n",
              "WA     39\n",
              "OR     36\n",
              "NM     33\n",
              "AK     29\n",
              "UT     29\n",
              "MD     24\n",
              "WY     23\n",
              "NJ     21\n",
              "NV     17\n",
              "ME     16\n",
              "AZ     15\n",
              "MA     14\n",
              "VT     14\n",
              "NH     10\n",
              "CT      8\n",
              "HI      5\n",
              "RI      5\n",
              "VI      3\n",
              "DE      3\n",
              "GU      1\n",
              "DC      1\n",
              "AS      1\n",
              "MP      1\n",
              "Name: ParentText_x, dtype: int64"
            ]
          },
          "metadata": {
            "tags": []
          },
          "execution_count": 11
        }
      ]
    },
    {
      "cell_type": "code",
      "metadata": {
        "colab": {
          "base_uri": "https://localhost:8080/"
        },
        "id": "Wp8GIZCpI47F",
        "outputId": "f22b1b96-a9d7-42fa-f528-06f64d5a3bd6"
      },
      "source": [
        "Demo_CDC_df.CensusTractName_x .value_counts()"
      ],
      "execution_count": null,
      "outputs": [
        {
          "output_type": "execute_result",
          "data": {
            "text/plain": [
              "Series([], Name: CensusTractName_x, dtype: int64)"
            ]
          },
          "metadata": {
            "tags": []
          },
          "execution_count": 12
        }
      ]
    },
    {
      "cell_type": "code",
      "metadata": {
        "colab": {
          "base_uri": "https://localhost:8080/"
        },
        "id": "7bc_QUbdJfEA",
        "outputId": "1f7ed5d6-e117-4731-fc22-6383229f0f26"
      },
      "source": [
        "Demo_CDC_df.Percent_of_Black_Population.value_counts()\n"
      ],
      "execution_count": null,
      "outputs": [
        {
          "output_type": "execute_result",
          "data": {
            "text/plain": [
              "0.0     259\n",
              "0.4     117\n",
              "0.3     115\n",
              "0.5     115\n",
              "0.2     114\n",
              "       ... \n",
              "23.2      1\n",
              "36.6      1\n",
              "35.7      1\n",
              "46.3      1\n",
              "43.4      1\n",
              "Name: Percent_of_Black_Population, Length: 484, dtype: int64"
            ]
          },
          "metadata": {
            "tags": []
          },
          "execution_count": 13
        }
      ]
    },
    {
      "cell_type": "code",
      "metadata": {
        "colab": {
          "base_uri": "https://localhost:8080/",
          "height": 282
        },
        "id": "4JzqHk9aPCK0",
        "outputId": "b879e3b2-f445-4f6a-a553-3cca48585946"
      },
      "source": [
        "Demo_CDC_df.Percent_of_Black_Population.value_counts().plot.density()"
      ],
      "execution_count": null,
      "outputs": [
        {
          "output_type": "execute_result",
          "data": {
            "text/plain": [
              "<matplotlib.axes._subplots.AxesSubplot at 0x7f2fde327290>"
            ]
          },
          "metadata": {
            "tags": []
          },
          "execution_count": 14
        },
        {
          "output_type": "display_data",
          "data": {
            "image/png": "[encoded data removed]",
            "text/plain": [
              "<Figure size 432x288 with 1 Axes>"
            ]
          },
          "metadata": {
            "tags": [],
            "needs_background": "light"
          }
        }
      ]
    },
    {
      "cell_type": "code",
      "metadata": {
        "colab": {
          "base_uri": "https://localhost:8080/"
        },
        "id": "qeXDRZJKPR3K",
        "outputId": "71fd774c-6ae7-4151-d38e-607b9a9303c6"
      },
      "source": [
        "Demo_CDC_df.Percent_of_Native_American_Population.value_counts()"
      ],
      "execution_count": null,
      "outputs": [
        {
          "output_type": "execute_result",
          "data": {
            "text/plain": [
              "0.0     717\n",
              "0.1     553\n",
              "0.2     474\n",
              "0.3     299\n",
              "0.4     197\n",
              "       ... \n",
              "89.5      1\n",
              "55.6      1\n",
              "21.6      1\n",
              "9.6       1\n",
              "10.1      1\n",
              "Name: Percent_of_Native_American_Population, Length: 189, dtype: int64"
            ]
          },
          "metadata": {
            "tags": []
          },
          "execution_count": 15
        }
      ]
    },
    {
      "cell_type": "code",
      "metadata": {
        "colab": {
          "base_uri": "https://localhost:8080/",
          "height": 284
        },
        "id": "YjUGBAQYPeyE",
        "outputId": "0888f0ad-8140-4e92-83d0-431411a80faa"
      },
      "source": [
        "Demo_CDC_df.Percent_of_Native_American_Population.value_counts().plot.density()"
      ],
      "execution_count": null,
      "outputs": [
        {
          "output_type": "execute_result",
          "data": {
            "text/plain": [
              "<matplotlib.axes._subplots.AxesSubplot at 0x7f2fdc203ad0>"
            ]
          },
          "metadata": {
            "tags": []
          },
          "execution_count": 16
        },
        {
          "output_type": "display_data",
          "data": {
            "image/png": "[encoded data removed]",
            "text/plain": [
              "<Figure size 432x288 with 1 Axes>"
            ]
          },
          "metadata": {
            "tags": [],
            "needs_background": "light"
          }
        }
      ]
    },
    {
      "cell_type": "code",
      "metadata": {
        "colab": {
          "base_uri": "https://localhost:8080/",
          "height": 350
        },
        "id": "zlKflmXMQ4y1",
        "outputId": "93d0c748-9506-461f-f3c3-99cff3cfe41c"
      },
      "source": [
        "import seaborn as sns\n",
        "sns.distplot(Demo_CDC_df['Percent_of_Native_American_Population'],kde = False)\n"
      ],
      "execution_count": null,
      "outputs": [
        {
          "output_type": "stream",
          "text": [
            "/usr/local/lib/python3.7/dist-packages/seaborn/distributions.py:2557: FutureWarning: `distplot` is a deprecated function and will be removed in a future version. Please adapt your code to use either `displot` (a figure-level function with similar flexibility) or `histplot` (an axes-level function for histograms).\n",
            "  warnings.warn(msg, FutureWarning)\n"
          ],
          "name": "stderr"
        },
        {
          "output_type": "execute_result",
          "data": {
            "text/plain": [
              "<matplotlib.axes._subplots.AxesSubplot at 0x7f2fdbcd4f90>"
            ]
          },
          "metadata": {
            "tags": []
          },
          "execution_count": 17
        },
        {
          "output_type": "display_data",
          "data": {
            "image/png": "[encoded data removed]",
            "text/plain": [
              "<Figure size 432x288 with 1 Axes>"
            ]
          },
          "metadata": {
            "tags": [],
            "needs_background": "light"
          }
        }
      ]
    },
    {
      "cell_type": "code",
      "metadata": {
        "id": "sZuIvhd7RtRt",
        "colab": {
          "base_uri": "https://localhost:8080/",
          "height": 350
        },
        "outputId": "ef615308-b2ec-47cd-b561-0d15a043022f"
      },
      "source": [
        "sns.distplot(Demo_CDC_df['Percent_of_White_Population'],kde = False)"
      ],
      "execution_count": null,
      "outputs": [
        {
          "output_type": "stream",
          "text": [
            "/usr/local/lib/python3.7/dist-packages/seaborn/distributions.py:2557: FutureWarning: `distplot` is a deprecated function and will be removed in a future version. Please adapt your code to use either `displot` (a figure-level function with similar flexibility) or `histplot` (an axes-level function for histograms).\n",
            "  warnings.warn(msg, FutureWarning)\n"
          ],
          "name": "stderr"
        },
        {
          "output_type": "execute_result",
          "data": {
            "text/plain": [
              "<matplotlib.axes._subplots.AxesSubplot at 0x7f2fdb42f390>"
            ]
          },
          "metadata": {
            "tags": []
          },
          "execution_count": 18
        },
        {
          "output_type": "display_data",
          "data": {
            "image/png": "[encoded data removed]",
            "text/plain": [
              "<Figure size 432x288 with 1 Axes>"
            ]
          },
          "metadata": {
            "tags": [],
            "needs_background": "light"
          }
        }
      ]
    },
    {
      "cell_type": "code",
      "metadata": {
        "id": "Bckj-jlaSE5c",
        "colab": {
          "base_uri": "https://localhost:8080/"
        },
        "outputId": "369c0e58-91d4-425d-ec71-c842d4743599"
      },
      "source": [
        "Demo_CDC_df.Percent_of_White_Population.value_counts()"
      ],
      "execution_count": null,
      "outputs": [
        {
          "output_type": "execute_result",
          "data": {
            "text/plain": [
              "94.7    32\n",
              "95.1    27\n",
              "95.4    27\n",
              "94.0    25\n",
              "94.4    24\n",
              "        ..\n",
              "33.1     1\n",
              "41.4     1\n",
              "30.8     1\n",
              "39.7     1\n",
              "24.9     1\n",
              "Name: Percent_of_White_Population, Length: 742, dtype: int64"
            ]
          },
          "metadata": {
            "tags": []
          },
          "execution_count": 19
        }
      ]
    },
    {
      "cell_type": "code",
      "metadata": {
        "id": "hGPFnksdSV96",
        "colab": {
          "base_uri": "https://localhost:8080/"
        },
        "outputId": "d2ac0f96-23e2-48f9-9426-671e1c6af668"
      },
      "source": [
        "Demo_CDC_df.Percent_of_Hispanic_or_Latino_Population.value_counts()\n"
      ],
      "execution_count": null,
      "outputs": [
        {
          "output_type": "execute_result",
          "data": {
            "text/plain": [
              "1.5     78\n",
              "1.7     62\n",
              "2.0     61\n",
              "2.2     59\n",
              "2.9     58\n",
              "        ..\n",
              "41.9     1\n",
              "49.8     1\n",
              "18.2     1\n",
              "95.4     1\n",
              "29.4     1\n",
              "Name: Percent_of_Hispanic_or_Latino_Population, Length: 468, dtype: int64"
            ]
          },
          "metadata": {
            "tags": []
          },
          "execution_count": 21
        }
      ]
    },
    {
      "cell_type": "code",
      "metadata": {
        "colab": {
          "base_uri": "https://localhost:8080/"
        },
        "id": "Sivv350G52LS",
        "outputId": "3445a239-7305-4a0a-8960-234be48b2dd6"
      },
      "source": [
        "Demo_CDC_df.Percent_of_Asian_or_Pacific_Islander_Population.value_counts()\n"
      ],
      "execution_count": null,
      "outputs": [
        {
          "output_type": "execute_result",
          "data": {
            "text/plain": [
              "0.0     441\n",
              "0.4     253\n",
              "0.3     251\n",
              "0.5     234\n",
              "0.1     199\n",
              "       ... \n",
              "39.1      1\n",
              "6.8       1\n",
              "17.2      1\n",
              "10.9      1\n",
              "9.2       1\n",
              "Name: Percent_of_Asian_or_Pacific_Islander_Population, Length: 134, dtype: int64"
            ]
          },
          "metadata": {
            "tags": []
          },
          "execution_count": 22
        }
      ]
    },
    {
      "cell_type": "code",
      "metadata": {
        "colab": {
          "base_uri": "https://localhost:8080/"
        },
        "id": "fU4RcLJc6a6m",
        "outputId": "651415b4-e566-4a5b-90e7-24d2249ddad4"
      },
      "source": [
        "Demo_CDC_df.Percent_of_Retired_Population.value_counts()"
      ],
      "execution_count": null,
      "outputs": [
        {
          "output_type": "execute_result",
          "data": {
            "text/plain": [
              "18.0    44\n",
              "18.3    44\n",
              "16.9    42\n",
              "17.3    42\n",
              "19.1    40\n",
              "        ..\n",
              "39.0     1\n",
              "27.5     1\n",
              "34.0     1\n",
              "33.4     1\n",
              "33.0     1\n",
              "Name: Percent_of_Retired_Population, Length: 266, dtype: int64"
            ]
          },
          "metadata": {
            "tags": []
          },
          "execution_count": 23
        }
      ]
    }
  ]
}